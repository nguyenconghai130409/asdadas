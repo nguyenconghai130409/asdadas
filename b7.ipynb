{
 "cells": [
  {
   "cell_type": "code",
   "execution_count": null,
   "id": "4b799df7",
   "metadata": {},
   "outputs": [],
   "source": [
    "\n",
    "import openai\n",
    "\n",
    "openai.api_key = \"YOUR_API_KEY\"\n",
    "\n",
    "danh_sach_mon = [\n",
    "    \"Pizza New York\",\n",
    "    \"Salad\",\n",
    "    \"Tomato Spaghetti\",\n",
    "    \"Tiramisu\"\n",
    "]\n",
    "\n",
    "prompt = \"Hãy viết mô tả ngắn cho từng món ăn theo định dạng <Tên món> - <Mô tả món>:\\n\"\n",
    "for mon in danh_sach_mon:\n",
    "    prompt += f\"{mon} -\\n\"\n",
    "\n",
    "\n",
    "response = openai.ChatCompletion.create(\n",
    "    model=\"gpt-3.5-turbo\",  \n",
    "    messages=[\n",
    "        {\"role\": \"system\", \"content\": \"Bạn là một đầu bếp chuyên nghiệp.\"},\n",
    "        {\"role\": \"user\", \"content\": prompt}\n",
    "    ],\n",
    "    temperature=0.7,\n",
    "    max_tokens=300\n",
    ")\n",
    "\n",
    "\n",
    "print(\"Thực đơn được tạo:\\n\")\n",
    "print(response['choices'][0]['message']['content'])\n"
   ]
  }
 ],
 "metadata": {
  "kernelspec": {
   "display_name": "Python 3",
   "language": "python",
   "name": "python3"
  },
  "language_info": {
   "codemirror_mode": {
    "name": "ipython",
    "version": 3
   },
   "file_extension": ".py",
   "mimetype": "text/x-python",
   "name": "python",
   "nbconvert_exporter": "python",
   "pygments_lexer": "ipython3",
   "version": "3.12.0"
  }
 },
 "nbformat": 4,
 "nbformat_minor": 5
}
